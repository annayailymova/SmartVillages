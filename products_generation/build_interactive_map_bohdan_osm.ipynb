{
 "cells": [
  {
   "cell_type": "code",
   "execution_count": null,
   "metadata": {},
   "outputs": [],
   "source": [
    "import plotly.graph_objects as go\n",
    "import plotly.express as px\n",
    "import pandas as pd\n",
    "import numpy as np"
   ]
  },
  {
   "cell_type": "code",
   "execution_count": null,
   "metadata": {},
   "outputs": [],
   "source": [
    "df_bohdan = pd.read_csv('final_dataset.csv')\n",
    "df_sofiia = pd.read_csv('rdi_lonlat.csv')\n",
    "df_names = pd.read_csv('archive-diploma-kaggle/all_dist_villages.csv')"
   ]
  },
  {
   "cell_type": "code",
   "execution_count": null,
   "metadata": {},
   "outputs": [],
   "source": [
    "df_names = df_names[[\"admin4Name\", \"admin4Na_1\", \"admin4Pcod\"]]"
   ]
  },
  {
   "cell_type": "code",
   "execution_count": null,
   "metadata": {},
   "outputs": [],
   "source": [
    "df_orig = df_bohdan.merge(df_sofiia, on='admin4Pcod', how='inner', suffixes=('_1', ''))\n",
    "df_orig = df_orig.merge(df_names, on='admin4Pcod', how='inner', suffixes=('_1', ''))"
   ]
  },
  {
   "cell_type": "code",
   "execution_count": null,
   "metadata": {},
   "outputs": [],
   "source": [
    "df = df_orig[['lon', 'lat', 'quality', 'admin4Name', \"admin4Pcod\"]]\n",
    "df = df.rename(columns={\"admin4Pcod\": \"Postal code\", \"admin4Name\": \"Locality\", 'quality': \"RDL\"})\n",
    "df[\"admin4Pcod\"] = df[\"Postal code\"]\n",
    "\n",
    "df['RDL'] = np.round(df['RDL'], 3)\n",
    "\n",
    "bins = [0, 0.15, 0.30, 0.50, 0.70, 1.00]\n",
    "labels = ['Very High', 'High', 'Moderate', 'Low', 'Very Low']\n",
    "labels_legend = ['0.00-0.15 (Very High)', '0.15-0.30 (High)', '0.30-0.50 (Moderate)', '0.50-0.70 (Low)', '0.70-1.00 (Very Low)']\n",
    "df['RDL category'] = pd.cut(df['RDL'], bins=bins, labels=labels, include_lowest=True)\n",
    "df['RDL legend'] = pd.cut(df['RDL'], bins=bins, labels=labels_legend, include_lowest=True)\n",
    "df.sort_values('RDL', ascending=True, inplace=True)\n",
    "\n",
    "custom_data = df[['Locality', \"Postal code\", 'RDL']]"
   ]
  },
  {
   "cell_type": "code",
   "execution_count": null,
   "metadata": {},
   "outputs": [],
   "source": [
    "import geopandas as gpd\n",
    "import pandas as pd\n",
    "\n",
    "# Load the shapefile\n",
    "shp_file = r\"rdi1\\rdi1.shp\"\n",
    "gdf = gpd.read_file(shp_file)\n",
    "\n",
    "# Ensure 'admin4Pcod' is the common column in both dataframes\n",
    "gdf = gdf.merge(df[['admin4Pcod', 'RDL']], on='admin4Pcod', how='left')\n",
    "\n",
    "# Save to a new shapefile with the added column\n",
    "gdf.to_file(\"graph_model.shp\")"
   ]
  },
  {
   "cell_type": "code",
   "execution_count": null,
   "metadata": {},
   "outputs": [],
   "source": [
    "center = (0.5 * (df['lon'].max() + df['lon'].min()), 0.5 * (df['lat'].max() + df['lat'].min()))\n",
    "print(center)"
   ]
  },
  {
   "cell_type": "code",
   "execution_count": null,
   "metadata": {},
   "outputs": [],
   "source": [
    "colors = { '0.70-1.00 (Very Low)': '#d7191c', '0.50-0.70 (Low)': '#f5a153', '0.30-0.50 (Moderate)': '#f7ff0a', '0.15-0.30 (High)': '#8acc62', '0.00-0.15 (Very High)': '#1a9641' }\n",
    "\n",
    "fig = px.scatter_mapbox(df, lon='lon', lat='lat', color='RDL legend', color_discrete_map=colors, hover_data={\n",
    "        # 'lon': False,  # Hide X\n",
    "        # 'lat': False,  # Hide Y\n",
    "        'RDL category': True,  # Hide RDI category\n",
    "        'Locality': True,  # Show RDI (continuous data)\n",
    "        'Postal code': True,  # Show Category\n",
    "        'RDL': True  # Show Description\n",
    "    },\n",
    "    mapbox_style='open-street-map',\n",
    "    zoom=5,\n",
    "    center={\n",
    "        'lon': center[0],\n",
    "        'lat': center[1]\n",
    "    },)\n",
    "    # width=976,\n",
    "    # height=686)\n",
    "\n",
    "hovertemplate = \"<br>\".join([\n",
    "    \"<b>%{customdata[1]}</b>\",\n",
    "    \"%{customdata[2]}\",\n",
    "    \"RDI: %{customdata[3]} (%{customdata[0]})<extra></extra>\",\n",
    "])\n",
    "\n",
    "fig.update_traces(\n",
    "    marker=dict(size=6),\n",
    "    hovertemplate=hovertemplate,\n",
    "    # showlegend=False,\n",
    ")\n",
    "\n",
    "fig.update_layout(\n",
    "    # title='Sample scatter plot',\n",
    "    plot_bgcolor=\"white\",\n",
    "    xaxis_title=None,\n",
    "    xaxis_showticklabels=False,\n",
    "    yaxis_title=None,\n",
    "    yaxis_showticklabels=False,\n",
    "    legend=dict(\n",
    "        title_text='Rural development level',\n",
    "        title_font=dict(size=16, color='black'),\n",
    "        x=0.1,  # Position x at the left\n",
    "        y=0.1,  # Position y at the bottom\n",
    "        xanchor='left',  # Anchor the x position to the left\n",
    "        yanchor='bottom',  # Anchor the y position to the bottom\n",
    "        orientation='v',\n",
    "        bgcolor='rgba(255, 255, 255, 0)',  # Transparent background\n",
    "        bordercolor='rgba(255, 255, 255, 0)',  # Optional: remove border\n",
    "        itemsizing='constant'\n",
    "    ),\n",
    ")\n",
    "\n",
    "fig.update_xaxes(showgrid=False, zeroline=False)\n",
    "fig.update_yaxes(showgrid=False, zeroline=False)\n",
    "fig['layout'].update(margin=dict(l=0,r=0,b=0,t=24))\n",
    "\n",
    "config = {'scrollZoom': True}\n",
    "\n",
    "fig.show(config=config)\n",
    "\n",
    "fig.write_html('rdl_graph_interactive.html', config=config)"
   ]
  }
 ],
 "metadata": {
  "kernelspec": {
   "display_name": "Python 3",
   "language": "python",
   "name": "python3"
  },
  "language_info": {
   "codemirror_mode": {
    "name": "ipython",
    "version": 3
   },
   "file_extension": ".py",
   "mimetype": "text/x-python",
   "name": "python",
   "nbconvert_exporter": "python",
   "pygments_lexer": "ipython3",
   "version": "3.11.9"
  }
 },
 "nbformat": 4,
 "nbformat_minor": 2
}
