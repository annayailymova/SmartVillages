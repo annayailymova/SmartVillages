{
 "cells": [
  {
   "cell_type": "code",
   "execution_count": null,
   "metadata": {},
   "outputs": [],
   "source": [
    "import plotly.graph_objects as go\n",
    "import plotly.express as px\n",
    "import pandas as pd"
   ]
  },
  {
   "cell_type": "code",
   "execution_count": null,
   "metadata": {},
   "outputs": [],
   "source": [
    "df_bohdan = pd.read_csv('final_dataset.csv')\n",
    "df_sofiia = pd.read_csv('rdi1_reduced/rdi.csv')\n",
    "df_names = pd.read_csv('archive-diploma-kaggle/all_dist_villages.csv')"
   ]
  },
  {
   "cell_type": "code",
   "execution_count": null,
   "metadata": {},
   "outputs": [],
   "source": [
    "df_names = df_names[[\"admin4Name\", \"admin4Na_1\", \"admin4Pcod\"]]"
   ]
  },
  {
   "cell_type": "code",
   "execution_count": null,
   "metadata": {},
   "outputs": [],
   "source": [
    "df_orig = df_bohdan.merge(df_sofiia, on='admin4Pcod', how='inner', suffixes=('_1', ''))\n",
    "df_orig = df_orig.merge(df_names, on='admin4Pcod', how='inner', suffixes=('_1', ''))"
   ]
  },
  {
   "cell_type": "code",
   "execution_count": null,
   "metadata": {},
   "outputs": [],
   "source": [
    "df = df_orig[['X', 'Y', 'quality', 'admin4Name', \"admin4Pcod\"]]\n",
    "df = df.rename(columns={\"admin4Pcod\": \"Postal code\", \"admin4Name\": \"Locality\", 'quality': \"RDL\"})\n",
    "\n",
    "df['RDL'] = (100 - df['RDL'] * 100).astype(int)\n",
    "\n",
    "bins = [0, 30, 50, 70, 85, 100]\n",
    "labels = ['Very Low', 'Low', 'Moderate', 'High', 'Very High']\n",
    "df['RDL category'] = pd.cut(df['RDL'], bins=bins, labels=labels, include_lowest=True)\n",
    "\n",
    "custom_data = df[['Locality', \"Postal code\", 'RDL']]"
   ]
  },
  {
   "cell_type": "code",
   "execution_count": null,
   "metadata": {},
   "outputs": [],
   "source": [
    "colors = { 'Very Low': '#d7191c', 'Low': '#f5a153', 'Moderate': '#f7ff0a', 'High': '#8acc62', 'Very High': '#1a9641'}\n",
    "\n",
    "fig = px.scatter(df, x='X', y='Y', color='RDL category', color_discrete_map=colors, hover_data={\n",
    "        'X': False,  # Hide X\n",
    "        'Y': False,  # Hide Y\n",
    "        'RDL category': True,  # Hide RDI category\n",
    "        'Locality': True,  # Show RDI (continuous data)\n",
    "        'Postal code': True,  # Show Category\n",
    "        'RDL': True  # Show Description\n",
    "    })\n",
    "\n",
    "hovertemplate = \"<br>\".join([\n",
    "    \"<b>%{customdata[1]}</b>\",\n",
    "    \"%{customdata[2]}\",\n",
    "    \"RDL: %{customdata[3]} (%{customdata[0]})<extra></extra>\",\n",
    "])\n",
    "\n",
    "fig.update_traces(\n",
    "    marker=dict(size=4),\n",
    "    hovertemplate=hovertemplate,\n",
    "    # showlegend=False,\n",
    ")\n",
    "\n",
    "fig.update_layout(\n",
    "    # title='Sample scatter plot',\n",
    "    plot_bgcolor=\"white\",\n",
    "    xaxis_title=None,\n",
    "    xaxis_showticklabels=False,\n",
    "    yaxis_title=None,\n",
    "    yaxis_showticklabels=False\n",
    ")\n",
    "\n",
    "fig.update_xaxes(showgrid=False, zeroline=False)\n",
    "fig.update_yaxes(showgrid=False, zeroline=False)\n",
    "fig['layout'].update(margin=dict(l=0,r=0,b=0,t=24))\n",
    "\n",
    "\n",
    "fig.show()\n",
    "\n",
    "fig.write_html('rdl_graph_interactive.html')"
   ]
  }
 ],
 "metadata": {
  "kernelspec": {
   "display_name": "Python 3",
   "language": "python",
   "name": "python3"
  },
  "language_info": {
   "codemirror_mode": {
    "name": "ipython",
    "version": 3
   },
   "file_extension": ".py",
   "mimetype": "text/x-python",
   "name": "python",
   "nbconvert_exporter": "python",
   "pygments_lexer": "ipython3",
   "version": "3.11.9"
  }
 },
 "nbformat": 4,
 "nbformat_minor": 2
}
